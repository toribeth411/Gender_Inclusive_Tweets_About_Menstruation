{
 "cells": [
  {
   "cell_type": "markdown",
   "id": "f58c0071",
   "metadata": {},
   "source": [
    "# 4. Multinomial NB and Tree with Tweet Text"
   ]
  },
  {
   "cell_type": "markdown",
   "id": "e4f85a7d",
   "metadata": {},
   "source": [
    "**Author:** Tori Stiegman   \n",
    "**Project:** Gender-Inclusive Language in Tweets about Menstruation: Capstone Edition                       \n",
    "**Date turned in:** Dec 19, 2022                                                               \n",
    "**Updated:** Mar 1, 2023\n",
    "\n",
    "**About this notebook:** In this notebook I will train and test a Multinomial Naive Bayes classifier and a Decision Tree on a datasets that only include the clean tweet text. They will both be able to label tweets as gender- \"inclusive,\" \"exclusive,\" or \"neither.\"\n",
    "\n",
    "**Table of Contents**\n",
    "1. [Import and Format Data](#data)\n",
    "    1. [Make Test Set](#testSet)\n",
    "    2. [Format Data](#format)\n",
    "2. [Vectorize training set](#vector)\n",
    "3. [Create a classifier instance](#classifier)\n",
    "4. [Fit the classifier](#fit)\n",
    "5. [Make predictions](#predict)\n",
    "    1. [Test dataset](#test)\n",
    "    2. [Full dataset](#full)"
   ]
  },
  {
   "cell_type": "code",
   "execution_count": 171,
   "id": "2b060c09",
   "metadata": {},
   "outputs": [],
   "source": [
    "import pandas as pd\n",
    "\n",
    "# get rid of warnings pls\n",
    "import warnings\n",
    "warnings.filterwarnings('ignore')"
   ]
  },
  {
   "cell_type": "markdown",
   "id": "8200ed97",
   "metadata": {},
   "source": [
    "<a name=\"data\"></a>\n",
    "## Import and Format Data\n",
    "\n",
    "Here I will import my training dataset, `train_clean.csv`, and my testing dataset, `test_clean.csv`.\n",
    "\n",
    "I will then format my training data into lists that the model can be trained on. "
   ]
  },
  {
   "cell_type": "markdown",
   "id": "917da549",
   "metadata": {},
   "source": [
    "### Load in Training Set"
   ]
  },
  {
   "cell_type": "code",
   "execution_count": 60,
   "id": "7ca26a56",
   "metadata": {},
   "outputs": [],
   "source": [
    "pd.set_option('display.max_colwidth', -1)\n",
    "labeled = pd.read_csv(\"train_clean.csv\")"
   ]
  },
  {
   "cell_type": "code",
   "execution_count": 100,
   "id": "52073732",
   "metadata": {},
   "outputs": [],
   "source": [
    "# labeled.head(20)"
   ]
  },
  {
   "cell_type": "code",
   "execution_count": 64,
   "id": "fed04354",
   "metadata": {
    "scrolled": true
   },
   "outputs": [
    {
     "data": {
      "text/plain": [
       "neither      143\n",
       "exclusive    73 \n",
       "inclusive    64 \n",
       "Name: label, dtype: int64"
      ]
     },
     "execution_count": 64,
     "metadata": {},
     "output_type": "execute_result"
    }
   ],
   "source": [
    "labeled[\"label\"].value_counts()"
   ]
  },
  {
   "cell_type": "markdown",
   "id": "fd34c2d3",
   "metadata": {},
   "source": [
    "<a name=\"testSet\"></a>\n",
    "### Load in Test Set\n"
   ]
  },
  {
   "cell_type": "code",
   "execution_count": 65,
   "id": "1a12cf1f",
   "metadata": {},
   "outputs": [],
   "source": [
    "dfTestFull = pd.read_csv(\"test_clean.csv\")"
   ]
  },
  {
   "cell_type": "code",
   "execution_count": 66,
   "id": "f8c64fb1",
   "metadata": {},
   "outputs": [
    {
     "data": {
      "text/plain": [
       "neither      24\n",
       "exclusive    16\n",
       "inclusive    16\n",
       "Name: label, dtype: int64"
      ]
     },
     "execution_count": 66,
     "metadata": {},
     "output_type": "execute_result"
    }
   ],
   "source": [
    "dfTestFull[\"label\"].value_counts()"
   ]
  },
  {
   "cell_type": "code",
   "execution_count": null,
   "id": "99ccc3aa",
   "metadata": {},
   "outputs": [],
   "source": [
    "y_test = dfTestFull.label.values.tolist()"
   ]
  },
  {
   "cell_type": "markdown",
   "id": "bce381f3",
   "metadata": {},
   "source": [
    "<a name=\"format\"></a>\n",
    "### Format data\n",
    "\n",
    "`X` = a list of tweet text data... will become `X_train` once it is vectorized... \n",
    "\n",
    "`y_train` = a list of labels correlating to certain items in `X`"
   ]
  },
  {
   "cell_type": "code",
   "execution_count": 67,
   "id": "aae5065b",
   "metadata": {},
   "outputs": [],
   "source": [
    "X = labeled['text_clean'].tolist()"
   ]
  },
  {
   "cell_type": "code",
   "execution_count": 68,
   "id": "33d14949",
   "metadata": {},
   "outputs": [],
   "source": [
    "y_train = labeled['label'].tolist()"
   ]
  },
  {
   "cell_type": "markdown",
   "id": "8c1f24ce",
   "metadata": {},
   "source": [
    "<a name=\"vector\"></a>\n",
    "### Vectorize Data in Training and Testing Datasets\n",
    "\n",
    "Here I will turn all of the tweets into a \"bag of words.\" This vector will contain how many instances there are of each word in the dataset to create a full vocabulary. "
   ]
  },
  {
   "cell_type": "code",
   "execution_count": 69,
   "id": "9bef548a",
   "metadata": {},
   "outputs": [],
   "source": [
    "from sklearn.feature_extraction.text import CountVectorizer"
   ]
  },
  {
   "cell_type": "code",
   "execution_count": 168,
   "id": "a85923f5",
   "metadata": {},
   "outputs": [],
   "source": [
    "vectorizer = CountVectorizer()\n",
    "\n",
    "X_train = vectorizer.fit_transform(X)\n",
    "\n",
    "test1 = dfTestFull['text_clean'].fillna(' ').tolist()\n",
    "X_test = vectorizer.transform(test1)"
   ]
  },
  {
   "cell_type": "markdown",
   "id": "a9861fdd",
   "metadata": {},
   "source": [
    "`X_train` is a matrix of size 280x1703.\n",
    "\n",
    "This means that there are 280 Tweets, with a vocabulary size of 1703 words.\n",
    "\n",
    "The next piece of code will show the vocabulary. "
   ]
  },
  {
   "cell_type": "code",
   "execution_count": 71,
   "id": "8ee32fc3",
   "metadata": {},
   "outputs": [],
   "source": [
    "# vectorizer.get_feature_names()"
   ]
  },
  {
   "cell_type": "markdown",
   "id": "c37c183f",
   "metadata": {},
   "source": [
    "________________________"
   ]
  },
  {
   "cell_type": "markdown",
   "id": "ac52b5ff",
   "metadata": {},
   "source": [
    "<a name=\"classifier\"></a>\n",
    "## Create and Fit Multinomial Naive Bayes Classifier Instance"
   ]
  },
  {
   "cell_type": "code",
   "execution_count": 72,
   "id": "90447649",
   "metadata": {},
   "outputs": [],
   "source": [
    "from sklearn.naive_bayes import MultinomialNB"
   ]
  },
  {
   "cell_type": "code",
   "execution_count": 73,
   "id": "0121368c",
   "metadata": {},
   "outputs": [],
   "source": [
    "# create classifier instance\n",
    "classifier = MultinomialNB()"
   ]
  },
  {
   "cell_type": "code",
   "execution_count": 74,
   "id": "d47b1e13",
   "metadata": {},
   "outputs": [
    {
     "data": {
      "text/html": [
       "<style>#sk-container-id-2 {color: black;background-color: white;}#sk-container-id-2 pre{padding: 0;}#sk-container-id-2 div.sk-toggleable {background-color: white;}#sk-container-id-2 label.sk-toggleable__label {cursor: pointer;display: block;width: 100%;margin-bottom: 0;padding: 0.3em;box-sizing: border-box;text-align: center;}#sk-container-id-2 label.sk-toggleable__label-arrow:before {content: \"▸\";float: left;margin-right: 0.25em;color: #696969;}#sk-container-id-2 label.sk-toggleable__label-arrow:hover:before {color: black;}#sk-container-id-2 div.sk-estimator:hover label.sk-toggleable__label-arrow:before {color: black;}#sk-container-id-2 div.sk-toggleable__content {max-height: 0;max-width: 0;overflow: hidden;text-align: left;background-color: #f0f8ff;}#sk-container-id-2 div.sk-toggleable__content pre {margin: 0.2em;color: black;border-radius: 0.25em;background-color: #f0f8ff;}#sk-container-id-2 input.sk-toggleable__control:checked~div.sk-toggleable__content {max-height: 200px;max-width: 100%;overflow: auto;}#sk-container-id-2 input.sk-toggleable__control:checked~label.sk-toggleable__label-arrow:before {content: \"▾\";}#sk-container-id-2 div.sk-estimator input.sk-toggleable__control:checked~label.sk-toggleable__label {background-color: #d4ebff;}#sk-container-id-2 div.sk-label input.sk-toggleable__control:checked~label.sk-toggleable__label {background-color: #d4ebff;}#sk-container-id-2 input.sk-hidden--visually {border: 0;clip: rect(1px 1px 1px 1px);clip: rect(1px, 1px, 1px, 1px);height: 1px;margin: -1px;overflow: hidden;padding: 0;position: absolute;width: 1px;}#sk-container-id-2 div.sk-estimator {font-family: monospace;background-color: #f0f8ff;border: 1px dotted black;border-radius: 0.25em;box-sizing: border-box;margin-bottom: 0.5em;}#sk-container-id-2 div.sk-estimator:hover {background-color: #d4ebff;}#sk-container-id-2 div.sk-parallel-item::after {content: \"\";width: 100%;border-bottom: 1px solid gray;flex-grow: 1;}#sk-container-id-2 div.sk-label:hover label.sk-toggleable__label {background-color: #d4ebff;}#sk-container-id-2 div.sk-serial::before {content: \"\";position: absolute;border-left: 1px solid gray;box-sizing: border-box;top: 0;bottom: 0;left: 50%;z-index: 0;}#sk-container-id-2 div.sk-serial {display: flex;flex-direction: column;align-items: center;background-color: white;padding-right: 0.2em;padding-left: 0.2em;position: relative;}#sk-container-id-2 div.sk-item {position: relative;z-index: 1;}#sk-container-id-2 div.sk-parallel {display: flex;align-items: stretch;justify-content: center;background-color: white;position: relative;}#sk-container-id-2 div.sk-item::before, #sk-container-id-2 div.sk-parallel-item::before {content: \"\";position: absolute;border-left: 1px solid gray;box-sizing: border-box;top: 0;bottom: 0;left: 50%;z-index: -1;}#sk-container-id-2 div.sk-parallel-item {display: flex;flex-direction: column;z-index: 1;position: relative;background-color: white;}#sk-container-id-2 div.sk-parallel-item:first-child::after {align-self: flex-end;width: 50%;}#sk-container-id-2 div.sk-parallel-item:last-child::after {align-self: flex-start;width: 50%;}#sk-container-id-2 div.sk-parallel-item:only-child::after {width: 0;}#sk-container-id-2 div.sk-dashed-wrapped {border: 1px dashed gray;margin: 0 0.4em 0.5em 0.4em;box-sizing: border-box;padding-bottom: 0.4em;background-color: white;}#sk-container-id-2 div.sk-label label {font-family: monospace;font-weight: bold;display: inline-block;line-height: 1.2em;}#sk-container-id-2 div.sk-label-container {text-align: center;}#sk-container-id-2 div.sk-container {/* jupyter's `normalize.less` sets `[hidden] { display: none; }` but bootstrap.min.css set `[hidden] { display: none !important; }` so we also need the `!important` here to be able to override the default hidden behavior on the sphinx rendered scikit-learn.org. See: https://github.com/scikit-learn/scikit-learn/issues/21755 */display: inline-block !important;position: relative;}#sk-container-id-2 div.sk-text-repr-fallback {display: none;}</style><div id=\"sk-container-id-2\" class=\"sk-top-container\"><div class=\"sk-text-repr-fallback\"><pre>MultinomialNB()</pre><b>In a Jupyter environment, please rerun this cell to show the HTML representation or trust the notebook. <br />On GitHub, the HTML representation is unable to render, please try loading this page with nbviewer.org.</b></div><div class=\"sk-container\" hidden><div class=\"sk-item\"><div class=\"sk-estimator sk-toggleable\"><input class=\"sk-toggleable__control sk-hidden--visually\" id=\"sk-estimator-id-2\" type=\"checkbox\" checked><label for=\"sk-estimator-id-2\" class=\"sk-toggleable__label sk-toggleable__label-arrow\">MultinomialNB</label><div class=\"sk-toggleable__content\"><pre>MultinomialNB()</pre></div></div></div></div></div>"
      ],
      "text/plain": [
       "MultinomialNB()"
      ]
     },
     "execution_count": 74,
     "metadata": {},
     "output_type": "execute_result"
    }
   ],
   "source": [
    "# fit the classifier on the training data\n",
    "classifier.fit(X_train, y_train)"
   ]
  },
  {
   "cell_type": "markdown",
   "id": "01a93154",
   "metadata": {},
   "source": [
    "### What is the classifier doing?"
   ]
  },
  {
   "cell_type": "code",
   "execution_count": 75,
   "id": "dd286482",
   "metadata": {},
   "outputs": [
    {
     "data": {
      "text/plain": [
       "array(['exclusive', 'inclusive', 'neither'], dtype='<U9')"
      ]
     },
     "execution_count": 75,
     "metadata": {},
     "output_type": "execute_result"
    }
   ],
   "source": [
    "# show the class names that it has learned\n",
    "classifier.classes_"
   ]
  },
  {
   "cell_type": "code",
   "execution_count": 76,
   "id": "f7b8e683",
   "metadata": {},
   "outputs": [
    {
     "data": {
      "text/plain": [
       "array([ 73.,  64., 143.])"
      ]
     },
     "execution_count": 76,
     "metadata": {},
     "output_type": "execute_result"
    }
   ],
   "source": [
    "# show how many instances for each class\n",
    "classifier.class_count_"
   ]
  },
  {
   "cell_type": "code",
   "execution_count": 77,
   "id": "d1735857",
   "metadata": {},
   "outputs": [
    {
     "data": {
      "text/plain": [
       "array([[0., 2., 0., ..., 0., 3., 0.],\n",
       "       [0., 1., 0., ..., 1., 1., 1.],\n",
       "       [1., 0., 1., ..., 1., 3., 0.]])"
      ]
     },
     "execution_count": 77,
     "metadata": {},
     "output_type": "execute_result"
    }
   ],
   "source": [
    "# show total number of features for each class\n",
    "classifier.feature_count_"
   ]
  },
  {
   "cell_type": "code",
   "execution_count": 78,
   "id": "04c38c8a",
   "metadata": {},
   "outputs": [
    {
     "data": {
      "text/plain": [
       "array([[-8.05134093, -6.95272864, -8.05134093, ..., -8.05134093,\n",
       "        -6.66504657, -8.05134093],\n",
       "       [-7.99631723, -7.30317005, -7.99631723, ..., -7.30317005,\n",
       "        -7.30317005, -7.30317005],\n",
       "       [-7.56294095, -8.25608813, -7.56294095, ..., -7.56294095,\n",
       "        -6.86979377, -8.25608813]])"
      ]
     },
     "execution_count": 78,
     "metadata": {},
     "output_type": "execute_result"
    }
   ],
   "source": [
    "# show the conditional log probabilities for each feature\n",
    "classifier.feature_log_prob_"
   ]
  },
  {
   "cell_type": "markdown",
   "id": "04a63a84",
   "metadata": {},
   "source": [
    "### Predict Labels for the Test Set"
   ]
  },
  {
   "cell_type": "code",
   "execution_count": 166,
   "id": "59e034c1",
   "metadata": {},
   "outputs": [],
   "source": [
    "y_pred = classifier.predict(X_test)\n",
    "\n",
    "dfTestFull['predicted_label'] = y_pred"
   ]
  },
  {
   "cell_type": "markdown",
   "id": "a5446d31",
   "metadata": {},
   "source": [
    "### Calculate Accuracy, Sensitivity and Specificity from Confusion Matrix"
   ]
  },
  {
   "cell_type": "markdown",
   "id": "fb344f13",
   "metadata": {},
   "source": [
    "#### Confusion Matrix\n",
    "First, I'll create a confusion matrix:"
   ]
  },
  {
   "cell_type": "code",
   "execution_count": 85,
   "id": "268c5d65",
   "metadata": {},
   "outputs": [],
   "source": [
    "from sklearn.metrics import accuracy_score\n",
    "from sklearn.metrics import confusion_matrix, ConfusionMatrixDisplay"
   ]
  },
  {
   "cell_type": "code",
   "execution_count": 172,
   "id": "09a4f05a",
   "metadata": {},
   "outputs": [
    {
     "name": "stdout",
     "output_type": "stream",
     "text": [
      "Naive Bayes Confusion Matrix:\n",
      "[[10  3  3]\n",
      " [ 2  7  7]\n",
      " [ 0  2 22]]\n"
     ]
    }
   ],
   "source": [
    "cmNB = confusion_matrix(\n",
    "        y_test, y_pred, labels = ['exclusive', 'inclusive', 'neither'])\n",
    "print(\"Naive Bayes Confusion Matrix:\\n\" + str(cmNB))"
   ]
  },
  {
   "cell_type": "code",
   "execution_count": 185,
   "id": "6eb08285",
   "metadata": {},
   "outputs": [
    {
     "data": {
      "text/plain": [
       "<sklearn.metrics._plot.confusion_matrix.ConfusionMatrixDisplay at 0x1689ea790>"
      ]
     },
     "execution_count": 185,
     "metadata": {},
     "output_type": "execute_result"
    },
    {
     "data": {
      "image/png": "[encoded data removed]",
      "text/plain": [
       "<Figure size 1000x500 with 2 Axes>"
      ]
     },
     "metadata": {},
     "output_type": "display_data"
    }
   ],
   "source": [
    "# a nicer version of the confusion matrix\n",
    "disp_tree = ConfusionMatrixDisplay(confusion_matrix=cmNB,\n",
    "                              display_labels=['exclusive', 'inclusive', 'neither'])\n",
    "disp_tree.plot(cmap = 'PuBu')"
   ]
  },
  {
   "cell_type": "markdown",
   "id": "dce81be3",
   "metadata": {},
   "source": [
    "#### Accuracy\n",
    "\n",
    "Next I'll calculate the accuracy.\n",
    "\n",
    "> accuracy = total correct predictions / total predictions"
   ]
  },
  {
   "cell_type": "code",
   "execution_count": 158,
   "id": "76f6677e",
   "metadata": {},
   "outputs": [
    {
     "name": "stdout",
     "output_type": "stream",
     "text": [
      "Accuracy Score: 0.6964285714285714\n"
     ]
    }
   ],
   "source": [
    "acc_score_tree = accuracy_score(y_test, y_pred)\n",
    "print(\"Accuracy Score: \" + str(acc_score_tree))"
   ]
  },
  {
   "cell_type": "markdown",
   "id": "51a5b062",
   "metadata": {},
   "source": [
    "#### Sensitivity\n",
    "\n",
    "> sensitivity = (true positives)/(true positives + false negatives)"
   ]
  },
  {
   "cell_type": "code",
   "execution_count": 159,
   "id": "818908ea",
   "metadata": {},
   "outputs": [],
   "source": [
    "# Define a helper function \n",
    "\n",
    "def sensitivity(tp, fn, label):\n",
    "    print(label + \" Sensitivity: \" + str(tp/(tp+fn)))"
   ]
  },
  {
   "cell_type": "code",
   "execution_count": 169,
   "id": "0acaadd4",
   "metadata": {},
   "outputs": [],
   "source": [
    "# Define the true positive and true negative values for each label\n",
    "\n",
    "# exclusive\n",
    "tp_ex_nb = cmNB[0][0] # should be 12\n",
    "fn_ex_nb = cmNB[0][1] + cmNB[0][2]\n",
    "\n",
    "# inclusive\n",
    "tp_in_nb = cmNB[1][1]\n",
    "fn_in_nb = cmNB[1][0] + cmNB[1][2]\n",
    "\n",
    "# neither\n",
    "tp_ne_nb = cmNB[2][2]\n",
    "fn_ne_nb = cmNB[2][0] + cmNB[2][1]"
   ]
  },
  {
   "cell_type": "code",
   "execution_count": 170,
   "id": "bb428494",
   "metadata": {},
   "outputs": [
    {
     "name": "stdout",
     "output_type": "stream",
     "text": [
      "'Exclusive' Sensitivity: 0.625\n",
      "'Inclusive' Sensitivity: 0.4375\n",
      "'Neither' Sensitivity: 0.9166666666666666\n"
     ]
    }
   ],
   "source": [
    "sensitivity(tp_ex_nb, fn_ex_nb, \"'Exclusive'\")\n",
    "sensitivity(tp_in_nb, fn_in_nb, \"'Inclusive'\")\n",
    "sensitivity(tp_ne_nb, fn_ne_nb, \"'Neither'\")"
   ]
  },
  {
   "cell_type": "markdown",
   "id": "e01ad70f",
   "metadata": {},
   "source": [
    "Based on this Confusion Matrix, the sensitivity, or true positive rate, was the highest for the \"neither\" category (0.92), and the lowest for the \"inclusive\" category (0.438). This means this tree model based on the text of the tweets identified 92% of the \"Neither\" cases in the test data set, 62.5% of the \"exclusive cases\" and 43.8% of the \"Inclusive\" cases. "
   ]
  },
  {
   "cell_type": "markdown",
   "id": "6747ebb8",
   "metadata": {},
   "source": [
    "#### Specificity\n",
    "\n",
    "> specificity = tn / (tn + fp)"
   ]
  },
  {
   "cell_type": "code",
   "execution_count": 162,
   "id": "490811b5",
   "metadata": {},
   "outputs": [],
   "source": [
    "# Define a helper function\n",
    "\n",
    "def specificity(tn, fp, label):\n",
    "    print(label + \" Sensitivity: \" + str(tn/(tn+fp)))"
   ]
  },
  {
   "cell_type": "code",
   "execution_count": 163,
   "id": "121efcff",
   "metadata": {},
   "outputs": [],
   "source": [
    "# Define the true negative and false positive values for each label\n",
    "\n",
    "# exclusive\n",
    "tn_ex_nb = sum(cmNB[1] + cmNB[2])\n",
    "fp_ex_nb = cmNB[1][0] + cmNB[2][0]\n",
    "\n",
    "# inclusive\n",
    "tn_in_nb = sum(cmNB[0] + cmNB[2])\n",
    "fp_in_nb = cmNB[0][1] + cmNB[2][1] \n",
    "\n",
    "# neither\n",
    "tn_ne_nb = sum(cmNB[0] + cmNB[1])\n",
    "fp_ne_nb = cmNB[0][2] + cmNB[1][2]"
   ]
  },
  {
   "cell_type": "code",
   "execution_count": 164,
   "id": "521cb47c",
   "metadata": {},
   "outputs": [
    {
     "name": "stdout",
     "output_type": "stream",
     "text": [
      "'Exclusive' Sensitivity: 0.9523809523809523\n",
      "'Inclusive' Sensitivity: 0.8888888888888888\n",
      "'Neither' Sensitivity: 0.7619047619047619\n"
     ]
    }
   ],
   "source": [
    "specificity(tn_ex_nb, fp_ex_nb, \"'Exclusive'\")\n",
    "specificity(tn_in_nb, fp_in_nb, \"'Inclusive'\")\n",
    "specificity(tn_ne_nb, fp_ne_nb, \"'Neither'\")"
   ]
  },
  {
   "cell_type": "markdown",
   "id": "d7020c30",
   "metadata": {},
   "source": [
    "The specificity of this tree model based on the tweet text was very high for the \"exclusive\" (0.95) and \"inclusive\" (0.889) categories and moderately hight for the \"neither\" (0.76) categroy. This means this decision tree was able to identify 95% of the tweets that did _not_ contain exclusive language, 88.9% of the tweets that did _not_ contain inclusive language and 76% of the tweets that did contain either exclusive or inclusive langague (i.e. did not contain words that would have earned it a \"neither\" label). "
   ]
  },
  {
   "cell_type": "markdown",
   "id": "4a33f8a8",
   "metadata": {},
   "source": [
    "-------------------------------------------------"
   ]
  },
  {
   "cell_type": "markdown",
   "id": "841c4905",
   "metadata": {},
   "source": [
    "## Decision Tree with Tweet Text"
   ]
  },
  {
   "cell_type": "code",
   "execution_count": 101,
   "id": "96a8d3f6",
   "metadata": {},
   "outputs": [],
   "source": [
    "import matplotlib.pyplot as plt\n",
    "from sklearn.datasets import load_iris\n",
    "from sklearn.datasets import load_breast_cancer\n",
    "# from sklearn.tree import DecisionTreeClassifier\n",
    "from sklearn.ensemble import RandomForestClassifier\n",
    "from sklearn.model_selection import train_test_split\n",
    "import pandas as pd\n",
    "import numpy as np\n",
    "from sklearn import tree"
   ]
  },
  {
   "cell_type": "code",
   "execution_count": 102,
   "id": "6226c398",
   "metadata": {},
   "outputs": [],
   "source": [
    "# Step 1: Import the model you want to use\n",
    "# This was already imported earlier in the notebook so commenting out\n",
    "from sklearn.tree import DecisionTreeClassifier\n",
    "\n",
    "# Step 2: Make an instance of the Model\n",
    "clf = DecisionTreeClassifier(max_depth = 50, \n",
    "                             random_state = 0)\n",
    "\n",
    "# Step 3: Train the model on the data\n",
    "clf.fit(X_train, y_train)\n",
    "# Step 4: Predict labels of unseen (test) data\n",
    "# Not doing this step in the tutorial\n",
    "y_pred_tree = clf.predict(X_test)"
   ]
  },
  {
   "cell_type": "code",
   "execution_count": 120,
   "id": "7a135170",
   "metadata": {},
   "outputs": [
    {
     "data": {
      "image/png": "[encoded data removed]",
      "text/plain": [
       "<Figure size 1000x500 with 1 Axes>"
      ]
     },
     "metadata": {},
     "output_type": "display_data"
    }
   ],
   "source": [
    "plt.rcParams['figure.figsize'] = [10, 5]\n",
    "fig = clf.fit(X_train,y_train)\n",
    "tree.plot_tree(fig)\n",
    "plt.show()"
   ]
  },
  {
   "cell_type": "markdown",
   "id": "6114d4ed",
   "metadata": {},
   "source": [
    "### Calculate Accuracy, Sensitivity and Specificity from Confusion matrix"
   ]
  },
  {
   "cell_type": "markdown",
   "id": "d61065ec",
   "metadata": {},
   "source": [
    "#### Confusion Matrix\n",
    "First, I'll create a confusion matrix:"
   ]
  },
  {
   "cell_type": "code",
   "execution_count": 155,
   "id": "be45fcfb",
   "metadata": {},
   "outputs": [
    {
     "name": "stdout",
     "output_type": "stream",
     "text": [
      "Confusion Matrix:\n",
      "[[12  1  3]\n",
      " [ 0 10  6]\n",
      " [ 0  1 23]]\n"
     ]
    }
   ],
   "source": [
    "cmTree = confusion_matrix(\n",
    "        y_test, y_pred_tree, labels = ['exclusive', 'inclusive', 'neither'])\n",
    "print(\"Confusion Matrix:\\n\" + str(cmTree))"
   ]
  },
  {
   "cell_type": "code",
   "execution_count": 186,
   "id": "e51ec18e",
   "metadata": {},
   "outputs": [
    {
     "data": {
      "text/plain": [
       "<sklearn.metrics._plot.confusion_matrix.ConfusionMatrixDisplay at 0x1689ea6d0>"
      ]
     },
     "execution_count": 186,
     "metadata": {},
     "output_type": "execute_result"
    },
    {
     "data": {
      "image/png": "[encoded data removed]",
      "text/plain": [
       "<Figure size 1000x500 with 2 Axes>"
      ]
     },
     "metadata": {},
     "output_type": "display_data"
    }
   ],
   "source": [
    "# a nicer version of the confusion matrix\n",
    "disp_tree = ConfusionMatrixDisplay(confusion_matrix=cmTree,\n",
    "                              display_labels=['exclusive', 'inclusive', 'neither'])\n",
    "disp_tree.plot(cmap = 'PuBu')"
   ]
  },
  {
   "cell_type": "markdown",
   "id": "30d164f5",
   "metadata": {},
   "source": [
    "#### Accuracy\n",
    "\n",
    "Next I'll calculate the accuracy.\n",
    "\n",
    "> accuracy = total correct predictions / total predictions"
   ]
  },
  {
   "cell_type": "code",
   "execution_count": 113,
   "id": "2150269c",
   "metadata": {},
   "outputs": [
    {
     "name": "stdout",
     "output_type": "stream",
     "text": [
      "Accuracy Score: 0.8035714285714286\n"
     ]
    }
   ],
   "source": [
    "acc_score_tree = accuracy_score(y_test, y_pred_tree)\n",
    "print(\"Accuracy Score: \" + str(acc_score_tree))"
   ]
  },
  {
   "cell_type": "markdown",
   "id": "9ed21135",
   "metadata": {},
   "source": [
    "#### Sensitivity\n",
    "\n",
    "> sensitivity = (true positives)/(true positives + false negatives)"
   ]
  },
  {
   "cell_type": "code",
   "execution_count": 123,
   "id": "967920d5",
   "metadata": {},
   "outputs": [],
   "source": [
    "# Define a helper function \n",
    "\n",
    "def sensitivity(tp, fn, label):\n",
    "    print(label + \" Sensitivity: \" + str(tp/(tp+fn)))"
   ]
  },
  {
   "cell_type": "code",
   "execution_count": 145,
   "id": "77e8451e",
   "metadata": {},
   "outputs": [],
   "source": [
    "# Define the true positive and true negative values for each label\n",
    "\n",
    "# exclusive\n",
    "tp_ex_tree = cmTree[0][0] # should be 12\n",
    "fn_ex_tree = cmTree[0][1] + cmTree[0][2]\n",
    "\n",
    "# inclusive\n",
    "tp_in_tree = cmTree[1][1]\n",
    "fn_in_tree = cmTree[1][0] + cmTree[1][2]\n",
    "\n",
    "# neither\n",
    "tp_ne_tree = cmTree[2][2]\n",
    "fn_ne_tree = cmTree[2][0] + cmTree[2][1]"
   ]
  },
  {
   "cell_type": "code",
   "execution_count": 146,
   "id": "568acb84",
   "metadata": {},
   "outputs": [
    {
     "name": "stdout",
     "output_type": "stream",
     "text": [
      "'Exclusive' Sensitivity: 0.75\n",
      "'Inclusive' Sensitivity: 0.625\n",
      "'Neither' Sensitivity: 0.9583333333333334\n"
     ]
    }
   ],
   "source": [
    "sensitivity(tp_ex_tree, fn_ex_tree, \"'Exclusive'\")\n",
    "sensitivity(tp_in_tree, fn_in_tree, \"'Inclusive'\")\n",
    "sensitivity(tp_ne_tree, fn_ne_tree, \"'Neither'\")"
   ]
  },
  {
   "cell_type": "markdown",
   "id": "14953a64",
   "metadata": {},
   "source": [
    "Based on this Confusion Matrix, the sensitivity, or true positive rate, was the highest for the \"neither\" category (0.96), and the lowest for the \"inclusive\" category (0.625). This means this tree model based on the text of the tweets identified 95% of the \"Neither\" cases in the test data set, 75% of the \"exclusive cases\" and 62.5% of the \"Inclusive\" cases. "
   ]
  },
  {
   "cell_type": "markdown",
   "id": "ecbcef13",
   "metadata": {},
   "source": [
    "#### Specificity\n",
    "\n",
    "> specificity = tn / (tn + fp)"
   ]
  },
  {
   "cell_type": "code",
   "execution_count": 133,
   "id": "8cd766d1",
   "metadata": {},
   "outputs": [],
   "source": [
    "# Define a helper function\n",
    "\n",
    "def specificity(tn, fp, label):\n",
    "    print(label + \" Sensitivity: \" + str(tn/(tn+fp)))"
   ]
  },
  {
   "cell_type": "code",
   "execution_count": 144,
   "id": "4e239957",
   "metadata": {},
   "outputs": [],
   "source": [
    "# Define the true negative and false positive values for each label\n",
    "\n",
    "# exclusive\n",
    "tn_ex_tree = sum(cmTree[1] + cmTree[2])\n",
    "fp_ex_tree = cmTree[1][0] + cmTree[2][0]\n",
    "\n",
    "# inclusive\n",
    "tn_in_tree = sum(cmTree[0] + cmTree[2])\n",
    "fp_in_tree = cmTree[0][1] + cmTree[2][1] \n",
    "\n",
    "# neither\n",
    "tn_ne_tree = sum(cmTree[0] + cmTree[1])\n",
    "fp_ne_tree = cmTree[0][2] + cmTree[1][2]"
   ]
  },
  {
   "cell_type": "code",
   "execution_count": 147,
   "id": "5e30897f",
   "metadata": {},
   "outputs": [
    {
     "name": "stdout",
     "output_type": "stream",
     "text": [
      "'Exclusive' Sensitivity: 1.0\n",
      "'Inclusive' Sensitivity: 0.9523809523809523\n",
      "'Neither' Sensitivity: 0.7804878048780488\n"
     ]
    }
   ],
   "source": [
    "specificity(tn_ex_tree, fp_ex_tree, \"'Exclusive'\")\n",
    "specificity(tn_in_tree, fp_in_tree, \"'Inclusive'\")\n",
    "specificity(tn_ne_tree, fp_ne_tree, \"'Neither'\")"
   ]
  },
  {
   "cell_type": "markdown",
   "id": "09c76c65",
   "metadata": {},
   "source": [
    "The specificity of this tree model based on the tweet text was very high for the \"exclusive\" (1.0) and \"inclusive\" (0.95) categories and moderately hight for the \"neither\" (0.78) categroy. This means this decision tree was able to identify 100% of the tweets that did _not_ contain exclusive language, 95% of the tweets that did _not_ contain inclusive language and 78% of the tweets that did contain either exclusive or inclusive langague (i.e. did not contain words that would have earned it a \"neither\" label). "
   ]
  },
  {
   "cell_type": "markdown",
   "id": "425eadb5",
   "metadata": {},
   "source": [
    "<a name=\"full\"></a>\n",
    "### Vectoroize and Predict Full Dataset"
   ]
  },
  {
   "cell_type": "markdown",
   "id": "dec59a84",
   "metadata": {},
   "source": [
    "As I have and will prove in this notebook and the following notebook, this decision tree trained just on the tweet text seems to be the best model. It has the highest overall accuracy, the highest sensitivity for the \"exclusive\" and \"neither\" label (the Multinomial Naive Bayes trained with tweet text, date and like count had the highest sensitivity for the \"inclusive\" label; sensitivity = 0.6875) and the highest specificity for the \"exclusive\" label and the \"inclusive label (the Multinomial Naive Bayes trained with tweet text, date and like count had the highest sensitivity for the \"inclusive\" label; specificity = 0.842). Thus, I will use it to label the rest of the tweets in my dataset for analysis."
   ]
  },
  {
   "cell_type": "markdown",
   "id": "9d30717e",
   "metadata": {},
   "source": [
    "#### Load Data"
   ]
  },
  {
   "cell_type": "code",
   "execution_count": 173,
   "id": "56f83b75",
   "metadata": {},
   "outputs": [],
   "source": [
    "allTweets = pd.read_csv(\"fullTwitter_clean.csv\")"
   ]
  },
  {
   "cell_type": "code",
   "execution_count": 174,
   "id": "9036d8ca",
   "metadata": {},
   "outputs": [],
   "source": [
    "# allTweets.head()"
   ]
  },
  {
   "cell_type": "markdown",
   "id": "2d82a2b9",
   "metadata": {},
   "source": [
    "#### Vectorize"
   ]
  },
  {
   "cell_type": "code",
   "execution_count": 175,
   "id": "12b32846",
   "metadata": {},
   "outputs": [],
   "source": [
    "test = allTweets['text_clean'].fillna(' ').tolist()\n",
    "testVector = vectorizer.transform(test)"
   ]
  },
  {
   "cell_type": "markdown",
   "id": "9f7464da",
   "metadata": {},
   "source": [
    "#### Make Predictions"
   ]
  },
  {
   "cell_type": "code",
   "execution_count": 176,
   "id": "480b5180",
   "metadata": {},
   "outputs": [],
   "source": [
    "testLabels = clf.predict(testVector)\n",
    "\n",
    "allTweets['predicted_label'] = testLabels"
   ]
  },
  {
   "cell_type": "markdown",
   "id": "465e66f1",
   "metadata": {},
   "source": [
    "#### Probe Task"
   ]
  },
  {
   "cell_type": "code",
   "execution_count": 177,
   "id": "6f32c0a8",
   "metadata": {},
   "outputs": [],
   "source": [
    "probe = classifier.predict_proba(testVector)\n",
    "probe = probe.tolist()\n",
    "allTweets['probe'] = probe"
   ]
  },
  {
   "cell_type": "code",
   "execution_count": 178,
   "id": "06a42885",
   "metadata": {},
   "outputs": [],
   "source": [
    "# allTweets[allTweets[\"predicted_label\"] == \"neither\"]"
   ]
  },
  {
   "cell_type": "code",
   "execution_count": 179,
   "id": "f5375da1",
   "metadata": {},
   "outputs": [],
   "source": [
    "# allTweets[allTweets[\"predicted_label\"] == \"inclusive\"]"
   ]
  },
  {
   "cell_type": "code",
   "execution_count": 180,
   "id": "b2496caa",
   "metadata": {},
   "outputs": [],
   "source": [
    "# allTweets[allTweets[\"predicted_label\"] == \"exclusive\"]"
   ]
  },
  {
   "cell_type": "markdown",
   "id": "f13dea4e",
   "metadata": {},
   "source": [
    "#### Export\n",
    "Export labeled Full dataset to a csv, `allTweets_labeled.csv`"
   ]
  },
  {
   "cell_type": "code",
   "execution_count": 181,
   "id": "005b0675",
   "metadata": {},
   "outputs": [],
   "source": [
    "allTweets.to_csv('allTweets_labeled.csv', index = False, header = True)"
   ]
  }
 ],
 "metadata": {
  "kernelspec": {
   "display_name": "Python 3 (ipykernel)",
   "language": "python",
   "name": "python3"
  },
  "language_info": {
   "codemirror_mode": {
    "name": "ipython",
    "version": 3
   },
   "file_extension": ".py",
   "mimetype": "text/x-python",
   "name": "python",
   "nbconvert_exporter": "python",
   "pygments_lexer": "ipython3",
   "version": "3.9.12"
  }
 },
 "nbformat": 4,
 "nbformat_minor": 5
}
