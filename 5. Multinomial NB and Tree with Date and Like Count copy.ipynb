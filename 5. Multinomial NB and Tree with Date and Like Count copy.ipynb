{
 "cells": [
  {
   "cell_type": "markdown",
   "id": "f58c0071",
   "metadata": {},
   "source": [
    "# 5. Multinomial NB and Tree with Tweet Text, Date and Like Count"
   ]
  },
  {
   "cell_type": "markdown",
   "id": "e4f85a7d",
   "metadata": {},
   "source": [
    "**Author:** Tori Stiegman   \n",
    "**Project:** Gender-Inclusive Language in Tweets about Menstruation: Capstone Edition                       \n",
    "**Date turned in:** Dec 19, 2022                                                               \n",
    "**Updated:** Mar 1, 2023\n",
    "\n",
    "**About this notebook:** **About this notebook:** In this notebook I will train and test a new Naive Bayes classifier and a new decision Tree. It will be able to label tweets as gender- \"inclusive,\" \"exclusive,\" or \"neither\" based on more information including `date` and `like_count`. \n",
    "\n",
    "**Table of Contents**\n",
    "1. [Import and Format Data](#data)\n",
    "    1. [Make Test Set](#testSet)\n",
    "    2. [Format Data](#format)\n",
    "2. [Vectorize training set](#vector)\n",
    "3. [Create a classifier instance](#classifier)\n",
    "4. [Fit the classifier](#fit)\n",
    "5. [Make predictions](#predict)\n",
    "    1. [Test dataset](#test)\n",
    "    2. [Full dataset](#full)"
   ]
  },
  {
   "cell_type": "code",
   "execution_count": 1,
   "id": "2b060c09",
   "metadata": {},
   "outputs": [],
   "source": [
    "import pandas as pd\n",
    "\n",
    "# get rid of warnings pls\n",
    "import warnings\n",
    "warnings.filterwarnings('ignore')"
   ]
  },
  {
   "cell_type": "markdown",
   "id": "8200ed97",
   "metadata": {},
   "source": [
    "<a name=\"data\"></a>\n",
    "## Import and Format Data\n",
    "\n",
    "Here I will import my training dataset, `train_clean_extras.csv`, and my test dataset, `test_clean_extras.csv`. Please note that these datasets are exactly the same as the data sets I used to train and test the first Naive Bayes model, excpet that they have two extra columsn: `date` and `like_count`.\n",
    "\n",
    "I will then format my training data into lists that the model can be trained on. "
   ]
  },
  {
   "cell_type": "markdown",
   "id": "917da549",
   "metadata": {},
   "source": [
    "### Load in Training Set"
   ]
  },
  {
   "cell_type": "code",
   "execution_count": 35,
   "id": "7ca26a56",
   "metadata": {},
   "outputs": [],
   "source": [
    "pd.set_option('display.max_colwidth', -1)\n",
    "labeled = pd.read_csv(\"train_clean_extras.csv\")"
   ]
  },
  {
   "cell_type": "code",
   "execution_count": 36,
   "id": "52073732",
   "metadata": {},
   "outputs": [],
   "source": [
    "# labeled.head(1)"
   ]
  },
  {
   "cell_type": "code",
   "execution_count": 37,
   "id": "fed04354",
   "metadata": {},
   "outputs": [
    {
     "data": {
      "text/plain": [
       "neither      143\n",
       "exclusive    73 \n",
       "inclusive    64 \n",
       "Name: label, dtype: int64"
      ]
     },
     "execution_count": 37,
     "metadata": {},
     "output_type": "execute_result"
    }
   ],
   "source": [
    "labeled[\"label\"].value_counts()"
   ]
  },
  {
   "cell_type": "markdown",
   "id": "fd34c2d3",
   "metadata": {},
   "source": [
    "<a name=\"testSet\"></a>\n",
    "### Load in Test Set\n"
   ]
  },
  {
   "cell_type": "code",
   "execution_count": 38,
   "id": "1a12cf1f",
   "metadata": {},
   "outputs": [],
   "source": [
    "dfTestFull = pd.read_csv(\"test_clean_extras.csv\")"
   ]
  },
  {
   "cell_type": "code",
   "execution_count": 39,
   "id": "f8c64fb1",
   "metadata": {},
   "outputs": [
    {
     "data": {
      "text/plain": [
       "neither      24\n",
       "exclusive    16\n",
       "inclusive    16\n",
       "Name: label, dtype: int64"
      ]
     },
     "execution_count": 39,
     "metadata": {},
     "output_type": "execute_result"
    }
   ],
   "source": [
    "dfTestFull[\"label\"].value_counts()"
   ]
  },
  {
   "cell_type": "markdown",
   "id": "bce381f3",
   "metadata": {},
   "source": [
    "<a name=\"format\"></a>\n",
    "### Format data\n",
    "\n",
    "`tweetText` = a list of tweet text data... will become a part of `X_train` once it is vectorized... \n",
    "\n",
    "`y_train` = a list of labels correlating to certain items in `X`"
   ]
  },
  {
   "cell_type": "code",
   "execution_count": 40,
   "id": "aae5065b",
   "metadata": {},
   "outputs": [],
   "source": [
    "tweetText = labeled['text_clean'].tolist()"
   ]
  },
  {
   "cell_type": "code",
   "execution_count": 41,
   "id": "33d14949",
   "metadata": {},
   "outputs": [],
   "source": [
    "y_train = labeled['label'].tolist()"
   ]
  },
  {
   "cell_type": "markdown",
   "id": "814b7d96",
   "metadata": {},
   "source": [
    "<a name=\"vector\"></a>\n",
    "### Preprocess and Vectorize Training Data\n",
    "\n",
    "Here I will turn all of the tweets into a \"bag of words.\" This vector will contain how many instances there are of each word in the dataset to create a full vocabulary. "
   ]
  },
  {
   "cell_type": "code",
   "execution_count": 42,
   "id": "9bef548a",
   "metadata": {},
   "outputs": [],
   "source": [
    "from sklearn.feature_extraction.text import CountVectorizer\n",
    "from sklearn import preprocessing"
   ]
  },
  {
   "cell_type": "code",
   "execution_count": 43,
   "id": "a85923f5",
   "metadata": {},
   "outputs": [],
   "source": [
    "vectorizer = CountVectorizer()\n",
    "text_vectorized = vectorizer.fit_transform(tweetText).toarray()"
   ]
  },
  {
   "cell_type": "code",
   "execution_count": 44,
   "id": "18110241",
   "metadata": {},
   "outputs": [],
   "source": [
    "# Creating labelEncoder\n",
    "le = preprocessing.LabelEncoder()\n",
    "\n",
    "# Convert date labels into numbers.\n",
    "date_encoded = le.fit_transform(labeled['date'])"
   ]
  },
  {
   "cell_type": "code",
   "execution_count": 45,
   "id": "d7e0e369",
   "metadata": {},
   "outputs": [],
   "source": [
    "import numpy as np\n",
    "from sklearn import preprocessing, naive_bayes, feature_extraction, pipeline, model_selection, compose\n",
    "\n",
    "#Combining tweet text, date, and like_count into single list of \n",
    "X_train = np.column_stack((text_vectorized, date_encoded, labeled[\"like_count\"]))\n",
    "\n",
    "# X_train = np.column_stack((date_encoded, labeled[\"like_count\"]))"
   ]
  },
  {
   "cell_type": "markdown",
   "id": "c0dbc88f",
   "metadata": {},
   "source": [
    "<a name=\"vector\"></a>\n",
    "### Preprocess and Vectorize Test Data\n",
    "\n",
    "Here I will turn all of the tweets in the test dataset into a \"bag of words.\" This vector will contain how many instances there are of each word in the dataset to create a full vocabulary. "
   ]
  },
  {
   "cell_type": "code",
   "execution_count": 46,
   "id": "1585fd39",
   "metadata": {},
   "outputs": [],
   "source": [
    "test1 = dfTestFull['text_clean'].fillna(' ').tolist()\n",
    "text_vec_test = vectorizer.transform(test1).toarray()\n",
    "\n",
    "# Convert date labels into numbers.\n",
    "date_encoded_test = le.fit_transform(dfTestFull['date'])\n",
    "\n",
    "#Combining tweet text, date, and like_count into single list of \n",
    "X_test = np.column_stack((text_vec_test, date_encoded_test, dfTestFull[\"like_count\"]))\n",
    "# X_test = np.column_stack((date_encoded_test, dfTestFull[\"like_count\"]))\n",
    "\n",
    "y_test = dfTestFull.label.values.tolist()"
   ]
  },
  {
   "cell_type": "markdown",
   "id": "e8d2b409",
   "metadata": {},
   "source": [
    "________________________"
   ]
  },
  {
   "cell_type": "markdown",
   "id": "ac52b5ff",
   "metadata": {},
   "source": [
    "<a name=\"classifier\"></a>\n",
    "## Create and Fit Multinomial Naive Bayes Classifier Instance"
   ]
  },
  {
   "cell_type": "code",
   "execution_count": 47,
   "id": "90447649",
   "metadata": {},
   "outputs": [],
   "source": [
    "from sklearn.naive_bayes import MultinomialNB"
   ]
  },
  {
   "cell_type": "code",
   "execution_count": 48,
   "id": "0121368c",
   "metadata": {},
   "outputs": [],
   "source": [
    "# create classifier instance\n",
    "classifier = MultinomialNB()"
   ]
  },
  {
   "cell_type": "code",
   "execution_count": 49,
   "id": "d47b1e13",
   "metadata": {},
   "outputs": [
    {
     "data": {
      "text/html": [
       "<style>#sk-container-id-2 {color: black;background-color: white;}#sk-container-id-2 pre{padding: 0;}#sk-container-id-2 div.sk-toggleable {background-color: white;}#sk-container-id-2 label.sk-toggleable__label {cursor: pointer;display: block;width: 100%;margin-bottom: 0;padding: 0.3em;box-sizing: border-box;text-align: center;}#sk-container-id-2 label.sk-toggleable__label-arrow:before {content: \"▸\";float: left;margin-right: 0.25em;color: #696969;}#sk-container-id-2 label.sk-toggleable__label-arrow:hover:before {color: black;}#sk-container-id-2 div.sk-estimator:hover label.sk-toggleable__label-arrow:before {color: black;}#sk-container-id-2 div.sk-toggleable__content {max-height: 0;max-width: 0;overflow: hidden;text-align: left;background-color: #f0f8ff;}#sk-container-id-2 div.sk-toggleable__content pre {margin: 0.2em;color: black;border-radius: 0.25em;background-color: #f0f8ff;}#sk-container-id-2 input.sk-toggleable__control:checked~div.sk-toggleable__content {max-height: 200px;max-width: 100%;overflow: auto;}#sk-container-id-2 input.sk-toggleable__control:checked~label.sk-toggleable__label-arrow:before {content: \"▾\";}#sk-container-id-2 div.sk-estimator input.sk-toggleable__control:checked~label.sk-toggleable__label {background-color: #d4ebff;}#sk-container-id-2 div.sk-label input.sk-toggleable__control:checked~label.sk-toggleable__label {background-color: #d4ebff;}#sk-container-id-2 input.sk-hidden--visually {border: 0;clip: rect(1px 1px 1px 1px);clip: rect(1px, 1px, 1px, 1px);height: 1px;margin: -1px;overflow: hidden;padding: 0;position: absolute;width: 1px;}#sk-container-id-2 div.sk-estimator {font-family: monospace;background-color: #f0f8ff;border: 1px dotted black;border-radius: 0.25em;box-sizing: border-box;margin-bottom: 0.5em;}#sk-container-id-2 div.sk-estimator:hover {background-color: #d4ebff;}#sk-container-id-2 div.sk-parallel-item::after {content: \"\";width: 100%;border-bottom: 1px solid gray;flex-grow: 1;}#sk-container-id-2 div.sk-label:hover label.sk-toggleable__label {background-color: #d4ebff;}#sk-container-id-2 div.sk-serial::before {content: \"\";position: absolute;border-left: 1px solid gray;box-sizing: border-box;top: 0;bottom: 0;left: 50%;z-index: 0;}#sk-container-id-2 div.sk-serial {display: flex;flex-direction: column;align-items: center;background-color: white;padding-right: 0.2em;padding-left: 0.2em;position: relative;}#sk-container-id-2 div.sk-item {position: relative;z-index: 1;}#sk-container-id-2 div.sk-parallel {display: flex;align-items: stretch;justify-content: center;background-color: white;position: relative;}#sk-container-id-2 div.sk-item::before, #sk-container-id-2 div.sk-parallel-item::before {content: \"\";position: absolute;border-left: 1px solid gray;box-sizing: border-box;top: 0;bottom: 0;left: 50%;z-index: -1;}#sk-container-id-2 div.sk-parallel-item {display: flex;flex-direction: column;z-index: 1;position: relative;background-color: white;}#sk-container-id-2 div.sk-parallel-item:first-child::after {align-self: flex-end;width: 50%;}#sk-container-id-2 div.sk-parallel-item:last-child::after {align-self: flex-start;width: 50%;}#sk-container-id-2 div.sk-parallel-item:only-child::after {width: 0;}#sk-container-id-2 div.sk-dashed-wrapped {border: 1px dashed gray;margin: 0 0.4em 0.5em 0.4em;box-sizing: border-box;padding-bottom: 0.4em;background-color: white;}#sk-container-id-2 div.sk-label label {font-family: monospace;font-weight: bold;display: inline-block;line-height: 1.2em;}#sk-container-id-2 div.sk-label-container {text-align: center;}#sk-container-id-2 div.sk-container {/* jupyter's `normalize.less` sets `[hidden] { display: none; }` but bootstrap.min.css set `[hidden] { display: none !important; }` so we also need the `!important` here to be able to override the default hidden behavior on the sphinx rendered scikit-learn.org. See: https://github.com/scikit-learn/scikit-learn/issues/21755 */display: inline-block !important;position: relative;}#sk-container-id-2 div.sk-text-repr-fallback {display: none;}</style><div id=\"sk-container-id-2\" class=\"sk-top-container\"><div class=\"sk-text-repr-fallback\"><pre>MultinomialNB()</pre><b>In a Jupyter environment, please rerun this cell to show the HTML representation or trust the notebook. <br />On GitHub, the HTML representation is unable to render, please try loading this page with nbviewer.org.</b></div><div class=\"sk-container\" hidden><div class=\"sk-item\"><div class=\"sk-estimator sk-toggleable\"><input class=\"sk-toggleable__control sk-hidden--visually\" id=\"sk-estimator-id-2\" type=\"checkbox\" checked><label for=\"sk-estimator-id-2\" class=\"sk-toggleable__label sk-toggleable__label-arrow\">MultinomialNB</label><div class=\"sk-toggleable__content\"><pre>MultinomialNB()</pre></div></div></div></div></div>"
      ],
      "text/plain": [
       "MultinomialNB()"
      ]
     },
     "execution_count": 49,
     "metadata": {},
     "output_type": "execute_result"
    }
   ],
   "source": [
    "# fit the classifier on the training data\n",
    "classifier.fit(X_train, y_train)"
   ]
  },
  {
   "cell_type": "markdown",
   "id": "01a93154",
   "metadata": {},
   "source": [
    "### What is the classifier doing?"
   ]
  },
  {
   "cell_type": "code",
   "execution_count": 50,
   "id": "dd286482",
   "metadata": {},
   "outputs": [
    {
     "data": {
      "text/plain": [
       "array(['exclusive', 'inclusive', 'neither'], dtype='<U9')"
      ]
     },
     "execution_count": 50,
     "metadata": {},
     "output_type": "execute_result"
    }
   ],
   "source": [
    "# show the class names that it has learned\n",
    "classifier.classes_"
   ]
  },
  {
   "cell_type": "code",
   "execution_count": 51,
   "id": "f7b8e683",
   "metadata": {},
   "outputs": [
    {
     "data": {
      "text/plain": [
       "array([ 73.,  64., 143.])"
      ]
     },
     "execution_count": 51,
     "metadata": {},
     "output_type": "execute_result"
    }
   ],
   "source": [
    "# show how many instances for each class\n",
    "classifier.class_count_"
   ]
  },
  {
   "cell_type": "code",
   "execution_count": 52,
   "id": "d1735857",
   "metadata": {},
   "outputs": [
    {
     "data": {
      "text/plain": [
       "array([[0.0000e+00, 2.0000e+00, 0.0000e+00, ..., 0.0000e+00, 9.2100e+03,\n",
       "        3.3500e+02],\n",
       "       [0.0000e+00, 1.0000e+00, 0.0000e+00, ..., 1.0000e+00, 6.6520e+03,\n",
       "        4.5000e+02],\n",
       "       [1.0000e+00, 0.0000e+00, 1.0000e+00, ..., 0.0000e+00, 1.5797e+04,\n",
       "        9.5500e+02]])"
      ]
     },
     "execution_count": 52,
     "metadata": {},
     "output_type": "execute_result"
    }
   ],
   "source": [
    "# show total number of features for each class\n",
    "classifier.feature_count_"
   ]
  },
  {
   "cell_type": "code",
   "execution_count": 53,
   "id": "04c38c8a",
   "metadata": {},
   "outputs": [
    {
     "data": {
      "text/plain": [
       "array([[-9.44817547, -8.34956318, -9.44817547, ..., -9.44817547,\n",
       "        -0.32002177, -3.63106431],\n",
       "       [-9.21771313, -8.52456595, -9.21771313, ..., -8.52456595,\n",
       "        -0.41488997, -3.10624579],\n",
       "       [-9.24014186, -9.93328904, -9.24014186, ..., -9.93328904,\n",
       "        -0.26565042, -3.07053113]])"
      ]
     },
     "execution_count": 53,
     "metadata": {},
     "output_type": "execute_result"
    }
   ],
   "source": [
    "# show the conditional log probabilities for each feature\n",
    "classifier.feature_log_prob_"
   ]
  },
  {
   "cell_type": "markdown",
   "id": "953e9243",
   "metadata": {},
   "source": [
    "### Predict Labels for Test Set"
   ]
  },
  {
   "cell_type": "code",
   "execution_count": 54,
   "id": "5d72f7ff",
   "metadata": {},
   "outputs": [],
   "source": [
    "y_pred = classifier.predict(X_test)\n",
    "\n",
    "dfTestFull['predicted_label'] = y_pred\n",
    "\n",
    "y_test = dfTestFull.label.values.tolist()"
   ]
  },
  {
   "cell_type": "markdown",
   "id": "a5446d31",
   "metadata": {},
   "source": [
    "### Calculate Accuracy, Sensitivity and Specificity from Confusion Matrix"
   ]
  },
  {
   "cell_type": "markdown",
   "id": "f0d6079c",
   "metadata": {},
   "source": [
    "#### Confusion Matrix\n",
    "First, I'll create a confusion matrix:"
   ]
  },
  {
   "cell_type": "code",
   "execution_count": 55,
   "id": "268c5d65",
   "metadata": {},
   "outputs": [],
   "source": [
    "from sklearn.metrics import accuracy_score\n",
    "from sklearn.metrics import confusion_matrix, ConfusionMatrixDisplay"
   ]
  },
  {
   "cell_type": "code",
   "execution_count": 56,
   "id": "89eec13e",
   "metadata": {},
   "outputs": [
    {
     "name": "stdout",
     "output_type": "stream",
     "text": [
      "Confusion Matrix:\n",
      "[[ 7  7  2]\n",
      " [ 1 11  4]\n",
      " [ 1  2 21]]\n"
     ]
    }
   ],
   "source": [
    "cmNB = confusion_matrix(\n",
    "        y_test, y_pred, labels = ['exclusive', 'inclusive', 'neither'])\n",
    "print(\"Confusion Matrix:\\n\" + str(cmNB))"
   ]
  },
  {
   "cell_type": "code",
   "execution_count": 84,
   "id": "c2efbd60",
   "metadata": {},
   "outputs": [
    {
     "data": {
      "text/plain": [
       "<sklearn.metrics._plot.confusion_matrix.ConfusionMatrixDisplay at 0x2866a4640>"
      ]
     },
     "execution_count": 84,
     "metadata": {},
     "output_type": "execute_result"
    },
    {
     "data": {
      "image/png": "[encoded data removed]",
      "text/plain": [
       "<Figure size 1000x500 with 2 Axes>"
      ]
     },
     "metadata": {},
     "output_type": "display_data"
    }
   ],
   "source": [
    "# a nicer version of the confusion matrix\n",
    "disp_tree = ConfusionMatrixDisplay(confusion_matrix=cmNB,\n",
    "                              display_labels=['exclusive', 'inclusive', 'neither'])\n",
    "disp_tree.plot(cmap = 'PuBu')"
   ]
  },
  {
   "cell_type": "markdown",
   "id": "72199867",
   "metadata": {},
   "source": [
    "#### Accuracy\n",
    "\n",
    "Next I'll calculate the accuracy.\n",
    "\n",
    "> accuracy = total correct predictions / total predictions"
   ]
  },
  {
   "cell_type": "code",
   "execution_count": 58,
   "id": "76f6677e",
   "metadata": {},
   "outputs": [
    {
     "name": "stdout",
     "output_type": "stream",
     "text": [
      "Accuracy Score: 0.6964285714285714\n"
     ]
    }
   ],
   "source": [
    "acc_score_tree = accuracy_score(y_test, y_pred)\n",
    "print(\"Accuracy Score: \" + str(acc_score_tree))"
   ]
  },
  {
   "cell_type": "markdown",
   "id": "5d84e097",
   "metadata": {},
   "source": [
    "#### Sensitivity\n",
    "\n",
    "> sensitivity = (true positives)/(true positives + false negatives)"
   ]
  },
  {
   "cell_type": "code",
   "execution_count": 59,
   "id": "ccc03c60",
   "metadata": {},
   "outputs": [],
   "source": [
    "# Define a helper function \n",
    "\n",
    "def sensitivity(tp, fn, label):\n",
    "    print(label + \" Sensitivity: \" + str(tp/(tp+fn)))"
   ]
  },
  {
   "cell_type": "code",
   "execution_count": 61,
   "id": "d4783c60",
   "metadata": {},
   "outputs": [],
   "source": [
    "# Define the true positive and true negative values for each label\n",
    "\n",
    "# exclusive\n",
    "tp_ex_nb = cmNB[0][0] # should be 12\n",
    "fn_ex_nb = cmNB[0][1] + cmNB[0][2]\n",
    "\n",
    "# inclusive\n",
    "tp_in_nb = cmNB[1][1]\n",
    "fn_in_nb = cmNB[1][0] + cmNB[1][2]\n",
    "\n",
    "# neither\n",
    "tp_ne_nb = cmNB[2][2]\n",
    "fn_ne_nb = cmNB[2][0] + cmNB[2][1]"
   ]
  },
  {
   "cell_type": "code",
   "execution_count": 62,
   "id": "2ba5a844",
   "metadata": {},
   "outputs": [
    {
     "name": "stdout",
     "output_type": "stream",
     "text": [
      "'Exclusive' Sensitivity: 0.4375\n",
      "'Inclusive' Sensitivity: 0.6875\n",
      "'Neither' Sensitivity: 0.875\n"
     ]
    }
   ],
   "source": [
    "sensitivity(tp_ex_nb, fn_ex_nb, \"'Exclusive'\")\n",
    "sensitivity(tp_in_nb, fn_in_nb, \"'Inclusive'\")\n",
    "sensitivity(tp_ne_nb, fn_ne_nb, \"'Neither'\")"
   ]
  },
  {
   "cell_type": "markdown",
   "id": "e9233dac",
   "metadata": {},
   "source": [
    "Based on this Confusion Matrix, the sensitivity, or true positive rate, was the highest for the \"neither\" category (0.875), and the lowest for the \"exclusive\" category (0.438). This means this tree model based on the text of the tweets identified 87.5% of the \"Neither\" cases in the test data set, 43.8% of the \"exclusive cases\" and 68.8% of the \"Inclusive\" cases. "
   ]
  },
  {
   "cell_type": "markdown",
   "id": "0964163e",
   "metadata": {},
   "source": [
    "#### Specificity\n",
    "\n",
    "> specificity = tn / (tn + fp)"
   ]
  },
  {
   "cell_type": "code",
   "execution_count": 63,
   "id": "38443fc8",
   "metadata": {},
   "outputs": [],
   "source": [
    "# Define a helper function\n",
    "\n",
    "def specificity(tn, fp, label):\n",
    "    print(label + \" Sensitivity: \" + str(tn/(tn+fp)))"
   ]
  },
  {
   "cell_type": "code",
   "execution_count": 64,
   "id": "972d6fb5",
   "metadata": {},
   "outputs": [],
   "source": [
    "# Define the true negative and false positive values for each label\n",
    "\n",
    "# exclusive\n",
    "tn_ex_nb = sum(cmNB[1] + cmNB[2])\n",
    "fp_ex_nb = cmNB[1][0] + cmNB[2][0]\n",
    "\n",
    "# inclusive\n",
    "tn_in_nb = sum(cmNB[0] + cmNB[2])\n",
    "fp_in_nb = cmNB[0][1] + cmNB[2][1] \n",
    "\n",
    "# neither\n",
    "tn_ne_nb = sum(cmNB[0] + cmNB[1])\n",
    "fp_ne_nb = cmNB[0][2] + cmNB[1][2]"
   ]
  },
  {
   "cell_type": "code",
   "execution_count": 65,
   "id": "d71782f4",
   "metadata": {},
   "outputs": [
    {
     "name": "stdout",
     "output_type": "stream",
     "text": [
      "'Exclusive' Sensitivity: 0.9523809523809523\n",
      "'Inclusive' Sensitivity: 0.8163265306122449\n",
      "'Neither' Sensitivity: 0.8421052631578947\n"
     ]
    }
   ],
   "source": [
    "specificity(tn_ex_nb, fp_ex_nb, \"'Exclusive'\")\n",
    "specificity(tn_in_nb, fp_in_nb, \"'Inclusive'\")\n",
    "specificity(tn_ne_nb, fp_ne_nb, \"'Neither'\")"
   ]
  },
  {
   "cell_type": "markdown",
   "id": "a7991d61",
   "metadata": {},
   "source": [
    "The specificity of this tree model based on the tweet text was very high for the \"exclusive\" category (0.95) and moderately high for the \"inclusive\" (0.82) category the \"neither\" (0.84) categroy. This means this decision tree was able to identify 95% of the tweets that did _not_ contain exclusive language, 82% of the tweets that did _not_ contain inclusive language and 84% of the tweets that did contain either exclusive or inclusive langague (i.e. did not contain words that would have earned it a \"neither\" label). "
   ]
  },
  {
   "cell_type": "markdown",
   "id": "4a33f8a8",
   "metadata": {},
   "source": [
    "-------------------------------------------------"
   ]
  },
  {
   "cell_type": "markdown",
   "id": "841c4905",
   "metadata": {},
   "source": [
    "## Decision Tree with Tweet Text"
   ]
  },
  {
   "cell_type": "code",
   "execution_count": 68,
   "id": "96a8d3f6",
   "metadata": {},
   "outputs": [],
   "source": [
    "import matplotlib.pyplot as plt\n",
    "from sklearn.datasets import load_iris\n",
    "from sklearn.datasets import load_breast_cancer\n",
    "# from sklearn.tree import DecisionTreeClassifier\n",
    "from sklearn.ensemble import RandomForestClassifier\n",
    "from sklearn.model_selection import train_test_split\n",
    "import pandas as pd\n",
    "import numpy as np\n",
    "from sklearn import tree"
   ]
  },
  {
   "cell_type": "code",
   "execution_count": 69,
   "id": "6226c398",
   "metadata": {},
   "outputs": [],
   "source": [
    "# Step 1: Import the model you want to use\n",
    "# This was already imported earlier in the notebook so commenting out\n",
    "from sklearn.tree import DecisionTreeClassifier\n",
    "\n",
    "# Step 2: Make an instance of the Model\n",
    "clf = DecisionTreeClassifier(max_depth = 50, \n",
    "                             random_state = 0)\n",
    "\n",
    "# Step 3: Train the model on the data\n",
    "clf.fit(X_train, y_train)\n",
    "# Step 4: Predict labels of unseen (test) data\n",
    "# Not doing this step in the tutorial\n",
    "y_pred_tree = clf.predict(X_test)"
   ]
  },
  {
   "cell_type": "code",
   "execution_count": 70,
   "id": "7a135170",
   "metadata": {},
   "outputs": [
    {
     "data": {
      "image/png": "[encoded data removed]",
      "text/plain": [
       "<Figure size 1000x500 with 1 Axes>"
      ]
     },
     "metadata": {},
     "output_type": "display_data"
    }
   ],
   "source": [
    "plt.rcParams['figure.figsize'] = [10, 5]\n",
    "fig = clf.fit(X_train,y_train)\n",
    "tree.plot_tree(fig)\n",
    "plt.show()"
   ]
  },
  {
   "cell_type": "markdown",
   "id": "6114d4ed",
   "metadata": {},
   "source": [
    "### Calculate Accuracy, Sensitivity and Specificity from Confusion matrix"
   ]
  },
  {
   "cell_type": "markdown",
   "id": "d61065ec",
   "metadata": {},
   "source": [
    "#### Confusion Matrix\n",
    "First, I'll create a confusion matrix:"
   ]
  },
  {
   "cell_type": "code",
   "execution_count": 71,
   "id": "be45fcfb",
   "metadata": {},
   "outputs": [
    {
     "name": "stdout",
     "output_type": "stream",
     "text": [
      "Confusion Matrix:\n",
      "[[10  4  2]\n",
      " [ 0  9  7]\n",
      " [ 0  2 22]]\n"
     ]
    }
   ],
   "source": [
    "cmTree = confusion_matrix(\n",
    "        y_test, y_pred_tree, labels = ['exclusive', 'inclusive', 'neither'])\n",
    "print(\"Confusion Matrix:\\n\" + str(cmTree))"
   ]
  },
  {
   "cell_type": "code",
   "execution_count": 85,
   "id": "e51ec18e",
   "metadata": {},
   "outputs": [
    {
     "data": {
      "text/plain": [
       "<sklearn.metrics._plot.confusion_matrix.ConfusionMatrixDisplay at 0x2866a4940>"
      ]
     },
     "execution_count": 85,
     "metadata": {},
     "output_type": "execute_result"
    },
    {
     "data": {
      "image/png": "[encoded data removed]",
      "text/plain": [
       "<Figure size 1000x500 with 2 Axes>"
      ]
     },
     "metadata": {},
     "output_type": "display_data"
    }
   ],
   "source": [
    "# a nicer version of the confusion matrix\n",
    "disp_tree = ConfusionMatrixDisplay(confusion_matrix=cmTree,\n",
    "                              display_labels=['exclusive', 'inclusive', 'neither'])\n",
    "disp_tree.plot(cmap = 'PuBu')"
   ]
  },
  {
   "cell_type": "markdown",
   "id": "30d164f5",
   "metadata": {},
   "source": [
    "#### Accuracy\n",
    "\n",
    "Next I'll calculate the accuracy.\n",
    "\n",
    "> accuracy = total correct predictions / total predictions"
   ]
  },
  {
   "cell_type": "code",
   "execution_count": 73,
   "id": "2150269c",
   "metadata": {},
   "outputs": [
    {
     "name": "stdout",
     "output_type": "stream",
     "text": [
      "Accuracy Score: 0.7321428571428571\n"
     ]
    }
   ],
   "source": [
    "acc_score_tree = accuracy_score(y_test, y_pred_tree)\n",
    "print(\"Accuracy Score: \" + str(acc_score_tree))"
   ]
  },
  {
   "cell_type": "markdown",
   "id": "9ed21135",
   "metadata": {},
   "source": [
    "#### Sensitivity\n",
    "\n",
    "> sensitivity = (true positives)/(true positives + false negatives)"
   ]
  },
  {
   "cell_type": "code",
   "execution_count": 74,
   "id": "62dc06ca",
   "metadata": {},
   "outputs": [],
   "source": [
    "# Define a helper function \n",
    "\n",
    "def sensitivity(tp, fn, label):\n",
    "    print(label + \" Sensitivity: \" + str(tp/(tp+fn)))"
   ]
  },
  {
   "cell_type": "code",
   "execution_count": 75,
   "id": "77e8451e",
   "metadata": {},
   "outputs": [],
   "source": [
    "# Define the true positive and true negative values for each label\n",
    "\n",
    "# exclusive\n",
    "tp_ex_tree = cmTree[0][0] # should be 12\n",
    "fn_ex_tree = cmTree[0][1] + cmTree[0][2]\n",
    "\n",
    "# inclusive\n",
    "tp_in_tree = cmTree[1][1]\n",
    "fn_in_tree = cmTree[1][0] + cmTree[1][2]\n",
    "\n",
    "# neither\n",
    "tp_ne_tree = cmTree[2][2]\n",
    "fn_ne_tree = cmTree[2][0] + cmTree[2][1]"
   ]
  },
  {
   "cell_type": "code",
   "execution_count": 76,
   "id": "1c2b9fd7",
   "metadata": {},
   "outputs": [
    {
     "name": "stdout",
     "output_type": "stream",
     "text": [
      "'Exclusive' Sensitivity: 0.625\n",
      "'Inclusive' Sensitivity: 0.5625\n",
      "'Neither' Sensitivity: 0.9166666666666666\n"
     ]
    }
   ],
   "source": [
    "sensitivity(tp_ex_tree, fn_ex_tree, \"'Exclusive'\")\n",
    "sensitivity(tp_in_tree, fn_in_tree, \"'Inclusive'\")\n",
    "sensitivity(tp_ne_tree, fn_ne_tree, \"'Neither'\")"
   ]
  },
  {
   "cell_type": "markdown",
   "id": "ddd3ba95",
   "metadata": {},
   "source": [
    "Based on this Confusion Matrix, the sensitivity, or true positive rate, was the highest for the \"neither\" category (0.917), and the lowest for the \"inclusive\" category (0.5625). This means this tree model based on the text of the tweets identified 91.7% of the \"Neither\" cases in the test data set, 62.5% of the \"exclusive cases\" and 56.25% of the \"Inclusive\" cases. "
   ]
  },
  {
   "cell_type": "markdown",
   "id": "40673ba3",
   "metadata": {},
   "source": [
    "#### Specificity\n",
    "\n",
    "> specificity = tn / (tn + fp)"
   ]
  },
  {
   "cell_type": "code",
   "execution_count": 77,
   "id": "08250b76",
   "metadata": {},
   "outputs": [],
   "source": [
    "# Define a helper function\n",
    "\n",
    "def specificity(tn, fp, label):\n",
    "    print(label + \" Sensitivity: \" + str(tn/(tn+fp)))"
   ]
  },
  {
   "cell_type": "code",
   "execution_count": 78,
   "id": "4e239957",
   "metadata": {},
   "outputs": [],
   "source": [
    "# Define the true negative and false positive values for each label\n",
    "\n",
    "# exclusive\n",
    "tn_ex_tree = sum(cmTree[1] + cmTree[2])\n",
    "fp_ex_tree = cmTree[1][0] + cmTree[2][0]\n",
    "\n",
    "# inclusive\n",
    "tn_in_tree = sum(cmTree[0] + cmTree[2])\n",
    "fp_in_tree = cmTree[0][1] + cmTree[2][1] \n",
    "\n",
    "# neither\n",
    "tn_ne_tree = sum(cmTree[0] + cmTree[1])\n",
    "fp_ne_tree = cmTree[0][2] + cmTree[1][2]"
   ]
  },
  {
   "cell_type": "code",
   "execution_count": 79,
   "id": "5e30897f",
   "metadata": {},
   "outputs": [
    {
     "name": "stdout",
     "output_type": "stream",
     "text": [
      "'Exclusive' Sensitivity: 1.0\n",
      "'Inclusive' Sensitivity: 0.8695652173913043\n",
      "'Neither' Sensitivity: 0.7804878048780488\n"
     ]
    }
   ],
   "source": [
    "specificity(tn_ex_tree, fp_ex_tree, \"'Exclusive'\")\n",
    "specificity(tn_in_tree, fp_in_tree, \"'Inclusive'\")\n",
    "specificity(tn_ne_tree, fp_ne_tree, \"'Neither'\")"
   ]
  },
  {
   "cell_type": "markdown",
   "id": "09c76c65",
   "metadata": {},
   "source": [
    "The specificity of this tree model based on the tweet text was very high for the \"exclusive\" category (1.0) and moderately high for the \"inclusive\" (0.87) category and the \"neither\" (0.78) categroy. This means this decision tree was able to identify 100% of the tweets that did _not_ contain exclusive language, 87% of the tweets that did _not_ contain inclusive language and 78% of the tweets that did contain either exclusive or inclusive langague (i.e. did not contain words that would have earned it a \"neither\" label). "
   ]
  }
 ],
 "metadata": {
  "kernelspec": {
   "display_name": "Python 3 (ipykernel)",
   "language": "python",
   "name": "python3"
  },
  "language_info": {
   "codemirror_mode": {
    "name": "ipython",
    "version": 3
   },
   "file_extension": ".py",
   "mimetype": "text/x-python",
   "name": "python",
   "nbconvert_exporter": "python",
   "pygments_lexer": "ipython3",
   "version": "3.9.12"
  }
 },
 "nbformat": 4,
 "nbformat_minor": 5
}
