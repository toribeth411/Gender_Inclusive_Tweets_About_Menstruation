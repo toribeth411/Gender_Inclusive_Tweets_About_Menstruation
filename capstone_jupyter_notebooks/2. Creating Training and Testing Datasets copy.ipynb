{
 "cells": [
  {
   "cell_type": "markdown",
   "id": "2d76fe80",
   "metadata": {},
   "source": [
    "# 2. Creating Training and Testing Datasets\n",
    "\n",
    "\n",
    "**Author:** Tori Stiegman   \n",
    "**Project:** Gender-Inclusive Language in Tweets about Menstruation   \n",
    "**Date turned in:** Dec 19, 2022                                                                          \n",
    "**Updated:** Feb 28, 2023\n",
    "\n",
    "**About this notebook:** In this notebook, I will use cluster sampling to create a training data set. I will use this data set to train my classifier in future notebooks. \n",
    "\n",
    "**Table of Contents**\n",
    "1. [Load Data](#sec1)\n",
    "2. [Create Filtered Dataset](#sec2)\n",
    "3. [Cluster Sample to create Full Training Dataset](#sec3)\n",
    "4. [Remove Training rows from Full Dataset](#sec4)"
   ]
  },
  {
   "cell_type": "code",
   "execution_count": 46,
   "id": "163becde",
   "metadata": {},
   "outputs": [],
   "source": [
    "import advertools as adv\n",
    "import nltk\n",
    "from nltk.corpus import stopwords\n",
    "# nltk.download('stopwords')\n",
    "from nltk.stem import PorterStemmer\n",
    "\n",
    "import pandas as pd\n",
    "# pd.set_option('display.max_colwidth', None)\n",
    "\n",
    "# get rid of warnings pls\n",
    "import warnings\n",
    "warnings.filterwarnings('ignore')"
   ]
  },
  {
   "cell_type": "markdown",
   "id": "92e36102",
   "metadata": {},
   "source": [
    "<a name=\"sec1\"></a>\n",
    "## Load Data\n",
    "\n",
    "Load in the data from `period_tweets.csv` and create a duplicate, `dfFullClean`, that we can clean throughout the notebook. "
   ]
  },
  {
   "cell_type": "code",
   "execution_count": 29,
   "id": "e66b335c",
   "metadata": {},
   "outputs": [
    {
     "data": {
      "text/plain": [
       "301155"
      ]
     },
     "execution_count": 29,
     "metadata": {},
     "output_type": "execute_result"
    }
   ],
   "source": [
    "pd.set_option('display.max_colwidth', -1)\n",
    "dfFull = pd.read_csv('period_tweets.csv')\n",
    "dfFull = dfFull.drop('Unnamed: 0', axis = 1)\n",
    "\n",
    "dfFullClean = dfFull\n",
    "\n",
    "len(dfFull)"
   ]
  },
  {
   "cell_type": "markdown",
   "id": "ae750ff5",
   "metadata": {},
   "source": [
    "Turn the text column into a string, just to be extra safe. "
   ]
  },
  {
   "cell_type": "code",
   "execution_count": 30,
   "id": "d7ab94b7",
   "metadata": {},
   "outputs": [],
   "source": [
    "makeString = lambda text: str(text)\n",
    "\n",
    "dfFullClean['text'] = dfFull['text'].apply(makeString)"
   ]
  },
  {
   "cell_type": "code",
   "execution_count": 1,
   "id": "56645f56",
   "metadata": {
    "scrolled": true
   },
   "outputs": [],
   "source": [
    "# dfFullClean.head()"
   ]
  },
  {
   "cell_type": "markdown",
   "id": "0d627411",
   "metadata": {},
   "source": [
    "<a name=\"sec2\"></a>\n",
    "## Create Filtered Dataset"
   ]
  },
  {
   "cell_type": "markdown",
   "id": "7873777e",
   "metadata": {},
   "source": [
    "Create a new dataframe, `dfFiltered`, which will only contain tweets that mention any of the keywords:\n",
    "\n",
    "Keywords:\n",
    "- queer\n",
    "- gender (will include misgender, gender neutral, genderqueer, agender, etc.)\n",
    "- lgbt (will include lgbt, lgbtq, lgbtq+, lgbtqia by nature of code...)\n",
    "- trans (including transgender, transmasculine, etc.)\n",
    "- nonbinary\n",
    "- dysphoria\n",
    "- androgynous\n",
    "- afab\n",
    "- amab\n",
    "- enby\n",
    "- they\n",
    "- them"
   ]
  },
  {
   "cell_type": "code",
   "execution_count": 48,
   "id": "1319b46b",
   "metadata": {
    "scrolled": true
   },
   "outputs": [
    {
     "data": {
      "text/plain": [
       "10319"
      ]
     },
     "execution_count": 48,
     "metadata": {},
     "output_type": "execute_result"
    }
   ],
   "source": [
    "keywords = dfFull['text'].str.contains('queer', na=False) | \\\n",
    "           dfFull['text'].str.contains('gender', na=False) | \\\n",
    "           dfFull['text'].str.contains('lgbt', na=False) | \\\n",
    "           dfFull['text'].str.contains('trans', na=False) | \\\n",
    "           dfFull['text'].str.contains('nonbinary', na=False) | \\\n",
    "           dfFull['text'].str.contains('dysphoria', na=False) | \\\n",
    "           dfFull['text'].str.contains('androgynous', na=False) | \\\n",
    "           dfFull['text'].str.contains('afab', na=False) | \\\n",
    "           dfFull['text'].str.contains('amab', na=False) | \\\n",
    "           dfFull['text'].str.contains('enby', na=False)\n",
    "        \n",
    "\n",
    "dfFiltered = dfFullClean[keywords]\n",
    "len(dfFiltered)\n",
    "# dfFiltered.head()\n"
   ]
  },
  {
   "cell_type": "markdown",
   "id": "07de1eab",
   "metadata": {},
   "source": [
    "<a name=\"sec3\"></a>\n",
    "## Cluster Sample to Create Full Training Dataset\n",
    "\n",
    "I will use cluster sampling to generate a random sample of tweets. These tweets will then be labeled as gender- inclusive, neutral or exclusive. This labeled dataset will then be used to train a model. "
   ]
  },
  {
   "cell_type": "markdown",
   "id": "ba3b1417",
   "metadata": {},
   "source": [
    "### Filtered Random Sample\n",
    "Create random sample from filtered dataset (n = 140)"
   ]
  },
  {
   "cell_type": "code",
   "execution_count": 2,
   "id": "3093bde0",
   "metadata": {},
   "outputs": [],
   "source": [
    "import random\n",
    "\n",
    "random.seed(1234)\n",
    "\n",
    "\n",
    "filtered_sample_df = dfFiltered.sample(n = 140)\n",
    "# filtered_sample_df.head()"
   ]
  },
  {
   "cell_type": "markdown",
   "id": "a531bbb3",
   "metadata": {},
   "source": [
    "### Full Random Sample\n",
    "Create a random sample from the full dataset (n = 140)"
   ]
  },
  {
   "cell_type": "code",
   "execution_count": 34,
   "id": "327d5397",
   "metadata": {},
   "outputs": [],
   "source": [
    "random.seed(12345)\n",
    "\n",
    "full_sample_df = dfFull.sample(n = 140)"
   ]
  },
  {
   "cell_type": "markdown",
   "id": "7620808f",
   "metadata": {},
   "source": [
    "### Combining into Training Dataset\n",
    "Combine the full random sample and the filtered random sample to create the whole random sample (n = 280)."
   ]
  },
  {
   "cell_type": "code",
   "execution_count": 3,
   "id": "ce82ce8b",
   "metadata": {},
   "outputs": [],
   "source": [
    "training_data_df = pd.concat([full_sample_df, filtered_sample_df]).reset_index().drop('index', axis = 1)\n",
    "training_data_df.head()"
   ]
  },
  {
   "cell_type": "markdown",
   "id": "533553ac",
   "metadata": {},
   "source": [
    "### Export as CSV for Labeling..."
   ]
  },
  {
   "cell_type": "code",
   "execution_count": 36,
   "id": "617f7816",
   "metadata": {},
   "outputs": [],
   "source": [
    "training_data_df.to_csv('training_unlabeled.csv', index = False, header = True)"
   ]
  },
  {
   "cell_type": "markdown",
   "id": "942263a0",
   "metadata": {},
   "source": [
    "<a name=\"sec4\"></a>\n",
    "## Remove Training rows from Full Dataset\n",
    "\n",
    "Here I will remove the rows that were included in the training dataset from the full dataset. \n"
   ]
  },
  {
   "cell_type": "code",
   "execution_count": 37,
   "id": "b2cacd36",
   "metadata": {},
   "outputs": [],
   "source": [
    "dfRemoved1 = pd.concat([dfFullClean, training_data_df]).drop_duplicates(keep=False)"
   ]
  },
  {
   "cell_type": "code",
   "execution_count": 38,
   "id": "db01ba7f",
   "metadata": {},
   "outputs": [
    {
     "data": {
      "text/plain": [
       "(300874, 7)"
      ]
     },
     "execution_count": 38,
     "metadata": {},
     "output_type": "execute_result"
    }
   ],
   "source": [
    "dfRemoved1.shape"
   ]
  },
  {
   "cell_type": "code",
   "execution_count": 39,
   "id": "98c8e0e9",
   "metadata": {},
   "outputs": [
    {
     "data": {
      "text/plain": [
       "(301155, 7)"
      ]
     },
     "execution_count": 39,
     "metadata": {},
     "output_type": "execute_result"
    }
   ],
   "source": [
    "dfFullClean.shape"
   ]
  },
  {
   "cell_type": "markdown",
   "id": "11f14646",
   "metadata": {},
   "source": [
    "## Create Test Dataset"
   ]
  },
  {
   "cell_type": "markdown",
   "id": "8387f6d3",
   "metadata": {},
   "source": [
    "### Filter the data once again... \n",
    "\n",
    "Create a new dataframe, `dfFiltered`, which will only contain tweets that mention any of the keywords:\n",
    "\n",
    "Keywords:\n",
    "- queer\n",
    "- gender (will include misgender, gender neutral, genderqueer, agender, etc.)\n",
    "- lgbt (will include lgbt, lgbtq, lgbtq+, lgbtqia by nature of code...)\n",
    "- trans (including transgender, transmasculine, etc.)\n",
    "- nonbinary\n",
    "- dysphoria\n",
    "- androgynous\n",
    "- afab\n",
    "- amab\n",
    "- enby\n",
    "- they\n",
    "- them"
   ]
  },
  {
   "cell_type": "code",
   "execution_count": 5,
   "id": "350f0cf4",
   "metadata": {},
   "outputs": [],
   "source": [
    "keywords = dfRemoved1['text'].str.contains('queer', na=False) | \\\n",
    "           dfRemoved1['text'].str.contains('gender', na=False) | \\\n",
    "           dfRemoved1['text'].str.contains('lgbt', na=False) | \\\n",
    "           dfRemoved1['text'].str.contains('trans', na=False) | \\\n",
    "           dfRemoved1['text'].str.contains('nonbinary', na=False) | \\\n",
    "           dfRemoved1['text'].str.contains('dysphoria', na=False) | \\\n",
    "           dfRemoved1['text'].str.contains('androgynous', na=False) | \\\n",
    "           dfRemoved1['text'].str.contains('afab', na=False) | \\\n",
    "           dfRemoved1['text'].str.contains('amab', na=False) | \\\n",
    "           dfRemoved1['text'].str.contains('enby', na=False)\n",
    "        \n",
    "\n",
    "dfFiltered1 = dfRemoved1[keywords]\n",
    "len(dfFiltered1)\n",
    "dfFiltered1.head()"
   ]
  },
  {
   "cell_type": "markdown",
   "id": "6956e43f",
   "metadata": {},
   "source": [
    "<a name=\"sec____\"></a>\n",
    "### Cluster Sample to Create Full Test Dataset\n",
    "\n",
    "I will use cluster sampling to generate a random sample of tweets. These tweets will then be labeled as gender- inclusive, neutral or exclusive. This labeled dataset will then be used to test a model. "
   ]
  },
  {
   "cell_type": "markdown",
   "id": "d41f5493",
   "metadata": {},
   "source": [
    "#### Filtered Random Sample\n",
    "Create random sample from filtered dataset (n = 28)"
   ]
  },
  {
   "cell_type": "code",
   "execution_count": 6,
   "id": "f216fea0",
   "metadata": {},
   "outputs": [],
   "source": [
    "random.seed(1234)\n",
    "\n",
    "Test_filtered_sample_df = dfFiltered1.sample(n = 28)\n",
    "Test_filtered_sample_df.head()"
   ]
  },
  {
   "cell_type": "markdown",
   "id": "a4c00e03",
   "metadata": {},
   "source": [
    "#### Full Random Sample\n",
    "Create a random sample from the full dataset (n = 28)"
   ]
  },
  {
   "cell_type": "code",
   "execution_count": 25,
   "id": "f6d01b19",
   "metadata": {},
   "outputs": [],
   "source": [
    "random.seed(12345)\n",
    "\n",
    "Test_full_sample_df = dfFull.sample(n = 28)"
   ]
  },
  {
   "cell_type": "markdown",
   "id": "92b43199",
   "metadata": {},
   "source": [
    "#### Combining into Test Dataset\n",
    "Combine the full random sample and the filtered random sample to create the whole random sample (n = 56)."
   ]
  },
  {
   "cell_type": "code",
   "execution_count": 27,
   "id": "6e0d5887",
   "metadata": {},
   "outputs": [
    {
     "data": {
      "text/plain": [
       "(56, 7)"
      ]
     },
     "execution_count": 27,
     "metadata": {},
     "output_type": "execute_result"
    }
   ],
   "source": [
    "test_data_df = pd.concat([Test_full_sample_df, Test_filtered_sample_df]).reset_index().drop('index', axis = 1)\n",
    "test_data_df.head()\n",
    "test_data_df.shape"
   ]
  },
  {
   "cell_type": "markdown",
   "id": "ffd0511a",
   "metadata": {},
   "source": [
    "#### Export test dataset for labeling"
   ]
  },
  {
   "cell_type": "code",
   "execution_count": 41,
   "id": "915563e7",
   "metadata": {},
   "outputs": [],
   "source": [
    "test_data_df.to_csv(\"test_unlabeled.csv\")"
   ]
  },
  {
   "cell_type": "markdown",
   "id": "dc620bbb",
   "metadata": {},
   "source": [
    "### Create `NoTrainTest_fullTweets.csv`"
   ]
  },
  {
   "cell_type": "code",
   "execution_count": 40,
   "id": "dceea127",
   "metadata": {},
   "outputs": [],
   "source": [
    "dfRemoved2 = pd.concat([dfRemoved1, test_data_df]).drop_duplicates(keep=False)"
   ]
  },
  {
   "cell_type": "code",
   "execution_count": 42,
   "id": "0faceda6",
   "metadata": {},
   "outputs": [
    {
     "data": {
      "text/plain": [
       "(300818, 7)"
      ]
     },
     "execution_count": 42,
     "metadata": {},
     "output_type": "execute_result"
    }
   ],
   "source": [
    "dfRemoved2.shape"
   ]
  },
  {
   "cell_type": "code",
   "execution_count": 44,
   "id": "14b01b4a",
   "metadata": {},
   "outputs": [],
   "source": [
    "dfRemoved2.to_csv('noTrainTest_fullTweets.csv', index = False, header = True)"
   ]
  }
 ],
 "metadata": {
  "kernelspec": {
   "display_name": "Python 3 (ipykernel)",
   "language": "python",
   "name": "python3"
  },
  "language_info": {
   "codemirror_mode": {
    "name": "ipython",
    "version": 3
   },
   "file_extension": ".py",
   "mimetype": "text/x-python",
   "name": "python",
   "nbconvert_exporter": "python",
   "pygments_lexer": "ipython3",
   "version": "3.9.12"
  },
  "vscode": {
   "interpreter": {
    "hash": "b0fa6594d8f4cbf19f97940f81e996739fb7646882a419484c72d19e05852a7e"
   }
  }
 },
 "nbformat": 4,
 "nbformat_minor": 5
}
